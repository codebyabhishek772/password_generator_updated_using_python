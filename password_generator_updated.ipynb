{
  "nbformat": 4,
  "nbformat_minor": 0,
  "metadata": {
    "colab": {
      "name": "password_generator_updated.ipynb",
      "provenance": []
    },
    "kernelspec": {
      "name": "python3",
      "display_name": "Python 3"
    }
  },
  "cells": [
    {
      "cell_type": "code",
      "metadata": {
        "id": "SpFO3_hfT3Mj",
        "colab_type": "code",
        "colab": {}
      },
      "source": [
        "import string\n",
        "import random"
      ],
      "execution_count": 21,
      "outputs": []
    },
    {
      "cell_type": "code",
      "metadata": {
        "id": "CWOyrjlbT6vU",
        "colab_type": "code",
        "colab": {}
      },
      "source": [
        "def gen():\n",
        "  s1 = string.ascii_uppercase\n",
        "  #print(s1)\n",
        "  s2 = string.ascii_lowercase\n",
        "  #print(s2)\n",
        "  s3 = string.digits\n",
        "  #print(s3)\n",
        "  s4 =  string.punctuation\n",
        "  #print(s4)\n",
        "\n",
        "  passlen = int(input(\"Enter the password length: \"))\n",
        "\n",
        "  s = []\n",
        "  s.extend(list(s1))\n",
        "  s.extend(list(s2))\n",
        "  s.extend(list(s3))\n",
        "  s.extend(list(s4))\n",
        "  #print(s)\n",
        "\n",
        "  random.shuffle(s)\n",
        "  #print(s)\n",
        "  pas = (\"\".join(s[0:passlen]))\n",
        "  print(pas)\n"
      ],
      "execution_count": 39,
      "outputs": []
    },
    {
      "cell_type": "code",
      "metadata": {
        "id": "VXcsEPnFUH-A",
        "colab_type": "code",
        "colab": {
          "base_uri": "https://localhost:8080/",
          "height": 51
        },
        "outputId": "f8fec6fe-cc83-4920-fd44-1eaf2b9e7436"
      },
      "source": [
        "gen()"
      ],
      "execution_count": 40,
      "outputs": [
        {
          "output_type": "stream",
          "text": [
            "Enter the password length: 25\n",
            "</J,4Q|lc?@9rsgN(#!:d{+.%\n"
          ],
          "name": "stdout"
        }
      ]
    },
    {
      "cell_type": "code",
      "metadata": {
        "id": "iILp4HxDUKWq",
        "colab_type": "code",
        "colab": {}
      },
      "source": [
        ""
      ],
      "execution_count": null,
      "outputs": []
    }
  ]
}